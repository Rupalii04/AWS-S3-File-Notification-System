{
 "cells": [
  {
   "cell_type": "code",
   "execution_count": 1,
   "id": "073c0937-75be-4061-8f54-0fc5a67bd28f",
   "metadata": {},
   "outputs": [
    {
     "name": "stdout",
     "output_type": "stream",
     "text": [
      "Requirement already satisfied: boto3 in c:\\python35\\lib\\site-packages (1.35.13)\n",
      "Collecting botocore<1.36.0,>=1.35.13 (from boto3)\n",
      "  Using cached botocore-1.35.13-py3-none-any.whl.metadata (5.7 kB)\n",
      "Requirement already satisfied: jmespath<2.0.0,>=0.7.1 in c:\\python35\\lib\\site-packages (from boto3) (1.0.1)\n",
      "Requirement already satisfied: s3transfer<0.11.0,>=0.10.0 in c:\\python35\\lib\\site-packages (from boto3) (0.10.2)\n",
      "Requirement already satisfied: python-dateutil<3.0.0,>=2.1 in c:\\python35\\lib\\site-packages (from botocore<1.36.0,>=1.35.13->boto3) (2.8.2)\n",
      "Requirement already satisfied: urllib3!=2.2.0,<3,>=1.25.4 in c:\\python35\\lib\\site-packages (from botocore<1.36.0,>=1.35.13->boto3) (2.0.4)\n",
      "Requirement already satisfied: six>=1.5 in c:\\python35\\lib\\site-packages (from python-dateutil<3.0.0,>=2.1->botocore<1.36.0,>=1.35.13->boto3) (1.16.0)\n",
      "Using cached botocore-1.35.13-py3-none-any.whl (12.5 MB)\n",
      "Installing collected packages: botocore\n",
      "  Attempting uninstall: botocore\n",
      "    Found existing installation: botocore 1.35.7\n",
      "    Uninstalling botocore-1.35.7:\n",
      "      Successfully uninstalled botocore-1.35.7\n",
      "Successfully installed botocore-1.35.13\n",
      "Note: you may need to restart the kernel to use updated packages.\n"
     ]
    },
    {
     "name": "stderr",
     "output_type": "stream",
     "text": [
      "WARNING: Ignoring invalid distribution ~rotobuf (C:\\python35\\Lib\\site-packages)\n",
      "WARNING: Ignoring invalid distribution ~rotobuf (C:\\python35\\Lib\\site-packages)\n",
      "WARNING: Ignoring invalid distribution ~rotobuf (C:\\python35\\Lib\\site-packages)\n",
      "ERROR: pip's dependency resolver does not currently take into account all the packages that are installed. This behaviour is the source of the following dependency conflicts.\n",
      "aiobotocore 2.14.0 requires botocore<1.35.8,>=1.35.0, but you have botocore 1.35.13 which is incompatible.\n"
     ]
    }
   ],
   "source": [
    "pip install boto3"
   ]
  },
  {
   "cell_type": "code",
   "execution_count": 3,
   "id": "8cb8df7d-008b-4286-92f6-1267fafe9eb6",
   "metadata": {},
   "outputs": [],
   "source": [
    "# create csv file and upload it in s3\n",
    "# read the s3 bucket and read the csv file\n",
    "# Download the csv files\n",
    "import boto3\n",
    "import pandas as pd"
   ]
  },
  {
   "cell_type": "code",
   "execution_count": 4,
   "id": "e92bf2bc-6195-4e0f-a426-c139780a98fe",
   "metadata": {},
   "outputs": [],
   "source": [
    "s3= boto3.resource(\n",
    "    service_name='s3',\n",
    "    region_name='ap-south-1',\n",
    "    aws_access_key_id='YOUR IAM USER ACCESS KEY',\n",
    "    aws_secret_access_key='YOUR IAM USER SECRET KEY'\n",
    ")"
   ]
  },
  {
   "cell_type": "code",
   "execution_count": 5,
   "id": "a22906b7-cda9-4b19-9482-29422af51d1f",
   "metadata": {},
   "outputs": [
    {
     "name": "stdout",
     "output_type": "stream",
     "text": [
      "raunakaws1\n"
     ]
    }
   ],
   "source": [
    "#print all bucket names in the s3 bucket \n",
    "for bucket in s3.buckets.all():\n",
    "    print(bucket.name)\n"
   ]
  },
  {
   "cell_type": "code",
   "execution_count": 5,
   "id": "3b358f40-8473-4f38-aae9-94b69b47b94f",
   "metadata": {},
   "outputs": [
    {
     "name": "stdout",
     "output_type": "stream",
     "text": [
      "Collecting s3fs\n",
      "  Downloading s3fs-2024.9.0-py3-none-any.whl.metadata (1.6 kB)\n",
      "Collecting aiobotocore<3.0.0,>=2.5.4 (from s3fs)\n",
      "  Downloading aiobotocore-2.14.0-py3-none-any.whl.metadata (23 kB)\n",
      "Collecting fsspec==2024.9.0.* (from s3fs)\n",
      "  Downloading fsspec-2024.9.0-py3-none-any.whl.metadata (11 kB)\n",
      "Requirement already satisfied: aiohttp!=4.0.0a0,!=4.0.0a1 in c:\\python35\\lib\\site-packages (from s3fs) (3.9.1)\n",
      "Collecting botocore<1.35.8,>=1.35.0 (from aiobotocore<3.0.0,>=2.5.4->s3fs)\n",
      "  Downloading botocore-1.35.7-py3-none-any.whl.metadata (5.7 kB)\n",
      "Collecting aiohttp!=4.0.0a0,!=4.0.0a1 (from s3fs)\n",
      "  Downloading aiohttp-3.10.5-cp311-cp311-win_amd64.whl.metadata (7.8 kB)\n",
      "Requirement already satisfied: wrapt<2.0.0,>=1.10.10 in c:\\python35\\lib\\site-packages (from aiobotocore<3.0.0,>=2.5.4->s3fs) (1.16.0)\n",
      "Collecting aioitertools<1.0.0,>=0.5.1 (from aiobotocore<3.0.0,>=2.5.4->s3fs)\n",
      "  Downloading aioitertools-0.12.0-py3-none-any.whl.metadata (3.8 kB)\n",
      "Collecting aiohappyeyeballs>=2.3.0 (from aiohttp!=4.0.0a0,!=4.0.0a1->s3fs)\n",
      "  Downloading aiohappyeyeballs-2.4.0-py3-none-any.whl.metadata (5.9 kB)\n",
      "Requirement already satisfied: aiosignal>=1.1.2 in c:\\python35\\lib\\site-packages (from aiohttp!=4.0.0a0,!=4.0.0a1->s3fs) (1.3.1)\n",
      "Requirement already satisfied: attrs>=17.3.0 in c:\\python35\\lib\\site-packages (from aiohttp!=4.0.0a0,!=4.0.0a1->s3fs) (23.1.0)\n",
      "Requirement already satisfied: frozenlist>=1.1.1 in c:\\python35\\lib\\site-packages (from aiohttp!=4.0.0a0,!=4.0.0a1->s3fs) (1.4.1)\n",
      "Requirement already satisfied: multidict<7.0,>=4.5 in c:\\python35\\lib\\site-packages (from aiohttp!=4.0.0a0,!=4.0.0a1->s3fs) (6.0.4)\n",
      "Requirement already satisfied: yarl<2.0,>=1.0 in c:\\python35\\lib\\site-packages (from aiohttp!=4.0.0a0,!=4.0.0a1->s3fs) (1.9.4)\n",
      "Requirement already satisfied: jmespath<2.0.0,>=0.7.1 in c:\\python35\\lib\\site-packages (from botocore<1.35.8,>=1.35.0->aiobotocore<3.0.0,>=2.5.4->s3fs) (1.0.1)\n",
      "Requirement already satisfied: python-dateutil<3.0.0,>=2.1 in c:\\python35\\lib\\site-packages (from botocore<1.35.8,>=1.35.0->aiobotocore<3.0.0,>=2.5.4->s3fs) (2.8.2)\n",
      "Requirement already satisfied: urllib3!=2.2.0,<3,>=1.25.4 in c:\\python35\\lib\\site-packages (from botocore<1.35.8,>=1.35.0->aiobotocore<3.0.0,>=2.5.4->s3fs) (2.0.4)\n",
      "Requirement already satisfied: idna>=2.0 in c:\\python35\\lib\\site-packages (from yarl<2.0,>=1.0->aiohttp!=4.0.0a0,!=4.0.0a1->s3fs) (2.10)\n",
      "Requirement already satisfied: six>=1.5 in c:\\python35\\lib\\site-packages (from python-dateutil<3.0.0,>=2.1->botocore<1.35.8,>=1.35.0->aiobotocore<3.0.0,>=2.5.4->s3fs) (1.16.0)\n",
      "Downloading s3fs-2024.9.0-py3-none-any.whl (29 kB)\n",
      "Downloading fsspec-2024.9.0-py3-none-any.whl (179 kB)\n",
      "Downloading aiobotocore-2.14.0-py3-none-any.whl (77 kB)\n",
      "Downloading aiohttp-3.10.5-cp311-cp311-win_amd64.whl (379 kB)\n",
      "Downloading aiohappyeyeballs-2.4.0-py3-none-any.whl (12 kB)\n",
      "Downloading aioitertools-0.12.0-py3-none-any.whl (24 kB)\n",
      "Downloading botocore-1.35.7-py3-none-any.whl (12.5 MB)\n",
      "   ---------------------------------------- 0.0/12.5 MB ? eta -:--:--\n",
      "   --- ------------------------------------ 1.0/12.5 MB 5.0 MB/s eta 0:00:03\n",
      "   ----- ---------------------------------- 1.8/12.5 MB 4.2 MB/s eta 0:00:03\n",
      "   --------- ------------------------------ 2.9/12.5 MB 4.4 MB/s eta 0:00:03\n",
      "   ----------- ---------------------------- 3.7/12.5 MB 4.4 MB/s eta 0:00:03\n",
      "   --------------- ------------------------ 4.7/12.5 MB 4.3 MB/s eta 0:00:02\n",
      "   ------------------ --------------------- 5.8/12.5 MB 4.4 MB/s eta 0:00:02\n",
      "   --------------------- ------------------ 6.6/12.5 MB 4.4 MB/s eta 0:00:02\n",
      "   ------------------------ --------------- 7.6/12.5 MB 4.4 MB/s eta 0:00:02\n",
      "   -------------------------- ------------- 8.4/12.5 MB 4.3 MB/s eta 0:00:01\n",
      "   ----------------------------- ---------- 9.2/12.5 MB 4.3 MB/s eta 0:00:01\n",
      "   -------------------------------- ------- 10.2/12.5 MB 4.3 MB/s eta 0:00:01\n",
      "   ------------------------------------ --- 11.3/12.5 MB 4.3 MB/s eta 0:00:01\n",
      "   ---------------------------------------  12.3/12.5 MB 4.3 MB/s eta 0:00:01\n",
      "   ---------------------------------------  12.3/12.5 MB 4.3 MB/s eta 0:00:01\n",
      "   ---------------------------------------- 12.5/12.5 MB 3.9 MB/s eta 0:00:00\n",
      "Installing collected packages: fsspec, aioitertools, aiohappyeyeballs, botocore, aiohttp, aiobotocore, s3fs\n",
      "  Attempting uninstall: fsspec\n",
      "    Found existing installation: fsspec 2023.12.2\n",
      "    Uninstalling fsspec-2023.12.2:\n",
      "      Successfully uninstalled fsspec-2023.12.2\n",
      "  Attempting uninstall: botocore\n",
      "    Found existing installation: botocore 1.35.13\n",
      "    Uninstalling botocore-1.35.13:\n",
      "      Successfully uninstalled botocore-1.35.13\n",
      "  Attempting uninstall: aiohttp\n",
      "    Found existing installation: aiohttp 3.9.1\n",
      "    Uninstalling aiohttp-3.9.1:\n",
      "      Successfully uninstalled aiohttp-3.9.1\n",
      "Successfully installed aiobotocore-2.14.0 aiohappyeyeballs-2.4.0 aiohttp-3.10.5 aioitertools-0.12.0 botocore-1.35.7 fsspec-2024.9.0 s3fs-2024.9.0\n",
      "Note: you may need to restart the kernel to use updated packages.\n"
     ]
    },
    {
     "name": "stderr",
     "output_type": "stream",
     "text": [
      "WARNING: Ignoring invalid distribution ~rotobuf (C:\\python35\\Lib\\site-packages)\n",
      "WARNING: Ignoring invalid distribution ~rotobuf (C:\\python35\\Lib\\site-packages)\n",
      "WARNING: Ignoring invalid distribution ~rotobuf (C:\\python35\\Lib\\site-packages)\n",
      "ERROR: pip's dependency resolver does not currently take into account all the packages that are installed. This behaviour is the source of the following dependency conflicts.\n",
      "boto3 1.35.13 requires botocore<1.36.0,>=1.35.13, but you have botocore 1.35.7 which is incompatible.\n"
     ]
    }
   ],
   "source": [
    "pip install s3fs"
   ]
  },
  {
   "cell_type": "code",
   "execution_count": 6,
   "id": "d66e848e-9403-4878-ac9a-6cd5dc80dc5a",
   "metadata": {},
   "outputs": [],
   "source": [
    "import os\n",
    "os.environ[\"AWS_DEFAULT_REGION\"]= 'ap-south-1'\n",
    "os.environ[\"AWS_ACCESS_KEY_ID\"]='YOUR IAM USER ACCESS KEY'\n",
    "os.environ[\"AWS_SECRET_ACCESS_KEY\"]='YOUR IAM USER SECRET KEY'"
   ]
  },
  {
   "cell_type": "code",
   "execution_count": 7,
   "id": "709dcf58-b853-4229-84f7-6e50f4f3368a",
   "metadata": {},
   "outputs": [],
   "source": [
    "import pandas as pd"
   ]
  },
  {
   "cell_type": "code",
   "execution_count": 8,
   "id": "08b5b561-8495-4043-9d52-d977bf8c0cf1",
   "metadata": {},
   "outputs": [],
   "source": [
    "import pandas as pd\n",
    "\n",
    "#make dataframes\n",
    "foo=pd.DataFrame({'x': [1,2,3], 'y':['a','b','c']})\n",
    "bar=pd.DataFrame({'x': [10,20,30], 'y':['aa','bb','cc']})\n",
    "\n",
    "#save to csv\n",
    "foo.to_csv('foo.csv')\n",
    "bar.to_csv('bar.csv')"
   ]
  },
  {
   "cell_type": "code",
   "execution_count": 10,
   "id": "7b0aa238-b974-4f7b-9dda-fb7aaebdd1fc",
   "metadata": {},
   "outputs": [],
   "source": [
    "#upload files to s3 bucket \n",
    "s3.Bucket('raunakaws1').upload_file(Filename='foo.csv',Key='foo.csv')\n",
    "s3.Bucket('raunakaws1').upload_file(Filename='bar.csv',Key='bar.csv')"
   ]
  },
  {
   "cell_type": "code",
   "execution_count": 12,
   "id": "5e30fcd9-512e-4d5c-b829-43aea1e30c7f",
   "metadata": {},
   "outputs": [
    {
     "name": "stdout",
     "output_type": "stream",
     "text": [
      "s3.ObjectSummary(bucket_name='raunakaws1', key='bar.csv')\n",
      "s3.ObjectSummary(bucket_name='raunakaws1', key='foo.csv')\n",
      "s3.ObjectSummary(bucket_name='raunakaws1', key='j.jpg')\n"
     ]
    }
   ],
   "source": [
    "#check the objects in s3 bucket\n",
    "for obj in s3.Bucket('raunakaws1').objects.all():\n",
    "    print(obj)"
   ]
  },
  {
   "cell_type": "code",
   "execution_count": 13,
   "id": "1ec983a1-62a3-4c0f-8fec-fef78fa118da",
   "metadata": {},
   "outputs": [
    {
     "data": {
      "text/plain": [
       "{'ResponseMetadata': {'RequestId': 'MRBFY9GP401SZ5M2',\n",
       "  'HostId': 'jS7stMPb/b8h7jsPOESj7AZylE/ac2SDkrUkwJ+k3LndGYJf1Ok1s/AbcOv1YvrgoOSZvXHK8XqDScG/Rr/oSQ==',\n",
       "  'HTTPStatusCode': 200,\n",
       "  'HTTPHeaders': {'x-amz-id-2': 'jS7stMPb/b8h7jsPOESj7AZylE/ac2SDkrUkwJ+k3LndGYJf1Ok1s/AbcOv1YvrgoOSZvXHK8XqDScG/Rr/oSQ==',\n",
       "   'x-amz-request-id': 'MRBFY9GP401SZ5M2',\n",
       "   'date': 'Fri, 06 Sep 2024 14:40:54 GMT',\n",
       "   'last-modified': 'Fri, 06 Sep 2024 14:37:27 GMT',\n",
       "   'etag': '\"4f37125c484e1008fe788b654bb63968\"',\n",
       "   'x-amz-server-side-encryption': 'AES256',\n",
       "   'x-amz-version-id': 'NnrQKLbYY7j9k_NQe1NUjZ3p.EgbQSx_',\n",
       "   'accept-ranges': 'bytes',\n",
       "   'content-type': 'binary/octet-stream',\n",
       "   'server': 'AmazonS3',\n",
       "   'content-length': '27'},\n",
       "  'RetryAttempts': 0},\n",
       " 'AcceptRanges': 'bytes',\n",
       " 'LastModified': datetime.datetime(2024, 9, 6, 14, 37, 27, tzinfo=tzutc()),\n",
       " 'ContentLength': 27,\n",
       " 'ETag': '\"4f37125c484e1008fe788b654bb63968\"',\n",
       " 'VersionId': 'NnrQKLbYY7j9k_NQe1NUjZ3p.EgbQSx_',\n",
       " 'ContentType': 'binary/octet-stream',\n",
       " 'ServerSideEncryption': 'AES256',\n",
       " 'Metadata': {},\n",
       " 'Body': <botocore.response.StreamingBody at 0x152f080ece0>}"
      ]
     },
     "execution_count": 13,
     "metadata": {},
     "output_type": "execute_result"
    }
   ],
   "source": [
    "s3.Bucket('raunakaws1').Object('foo.csv').get()"
   ]
  },
  {
   "cell_type": "code",
   "execution_count": 14,
   "id": "533f9eb4-8139-4531-842b-673e56773e0c",
   "metadata": {},
   "outputs": [],
   "source": [
    "#load csv file directly into python\n",
    "obj = s3.Bucket('raunakaws1').Object('foo.csv').get()\n",
    "foo = pd.read_csv(obj['Body'] ,index_col=0)"
   ]
  },
  {
   "cell_type": "code",
   "execution_count": 15,
   "id": "c1d4c938-0f97-438d-a5ce-9e16d3f063df",
   "metadata": {},
   "outputs": [
    {
     "data": {
      "text/plain": [
       "pandas.core.frame.DataFrame"
      ]
     },
     "execution_count": 15,
     "metadata": {},
     "output_type": "execute_result"
    }
   ],
   "source": [
    "type(foo)"
   ]
  },
  {
   "cell_type": "code",
   "execution_count": 16,
   "id": "d5986c35-ac82-48bb-9bbe-90f160353c78",
   "metadata": {},
   "outputs": [
    {
     "data": {
      "text/html": [
       "<div>\n",
       "<style scoped>\n",
       "    .dataframe tbody tr th:only-of-type {\n",
       "        vertical-align: middle;\n",
       "    }\n",
       "\n",
       "    .dataframe tbody tr th {\n",
       "        vertical-align: top;\n",
       "    }\n",
       "\n",
       "    .dataframe thead th {\n",
       "        text-align: right;\n",
       "    }\n",
       "</style>\n",
       "<table border=\"1\" class=\"dataframe\">\n",
       "  <thead>\n",
       "    <tr style=\"text-align: right;\">\n",
       "      <th></th>\n",
       "      <th>x</th>\n",
       "      <th>y</th>\n",
       "    </tr>\n",
       "  </thead>\n",
       "  <tbody>\n",
       "    <tr>\n",
       "      <th>0</th>\n",
       "      <td>1</td>\n",
       "      <td>a</td>\n",
       "    </tr>\n",
       "    <tr>\n",
       "      <th>1</th>\n",
       "      <td>2</td>\n",
       "      <td>b</td>\n",
       "    </tr>\n",
       "    <tr>\n",
       "      <th>2</th>\n",
       "      <td>3</td>\n",
       "      <td>c</td>\n",
       "    </tr>\n",
       "  </tbody>\n",
       "</table>\n",
       "</div>"
      ],
      "text/plain": [
       "   x  y\n",
       "0  1  a\n",
       "1  2  b\n",
       "2  3  c"
      ]
     },
     "execution_count": 16,
     "metadata": {},
     "output_type": "execute_result"
    }
   ],
   "source": [
    "foo"
   ]
  },
  {
   "cell_type": "code",
   "execution_count": 17,
   "id": "8be343d2-a184-40d2-b3a2-ad3e0de2afdd",
   "metadata": {},
   "outputs": [],
   "source": [
    "\n",
    "obj = s3.Bucket('raunakaws1').Object('bar.csv').get()\n",
    "bar = pd.read_csv(obj['Body'],index_col=0)\n"
   ]
  },
  {
   "cell_type": "code",
   "execution_count": null,
   "id": "2991226e-bb98-4361-af75-19d092387a9e",
   "metadata": {},
   "outputs": [],
   "source": [
    "\n",
    "obj = s3.Bucket('krishtest3').Object('bar.csv').get()\n",
    "bar = pd.read_csv(obj['Body'],index_col=0)\n"
   ]
  },
  {
   "cell_type": "code",
   "execution_count": 18,
   "id": "0583b1fa-3917-464d-af5c-26ec6795fc91",
   "metadata": {},
   "outputs": [
    {
     "data": {
      "text/html": [
       "<div>\n",
       "<style scoped>\n",
       "    .dataframe tbody tr th:only-of-type {\n",
       "        vertical-align: middle;\n",
       "    }\n",
       "\n",
       "    .dataframe tbody tr th {\n",
       "        vertical-align: top;\n",
       "    }\n",
       "\n",
       "    .dataframe thead th {\n",
       "        text-align: right;\n",
       "    }\n",
       "</style>\n",
       "<table border=\"1\" class=\"dataframe\">\n",
       "  <thead>\n",
       "    <tr style=\"text-align: right;\">\n",
       "      <th></th>\n",
       "      <th>x</th>\n",
       "      <th>y</th>\n",
       "    </tr>\n",
       "  </thead>\n",
       "  <tbody>\n",
       "    <tr>\n",
       "      <th>0</th>\n",
       "      <td>10</td>\n",
       "      <td>aa</td>\n",
       "    </tr>\n",
       "    <tr>\n",
       "      <th>1</th>\n",
       "      <td>20</td>\n",
       "      <td>bb</td>\n",
       "    </tr>\n",
       "    <tr>\n",
       "      <th>2</th>\n",
       "      <td>30</td>\n",
       "      <td>cc</td>\n",
       "    </tr>\n",
       "  </tbody>\n",
       "</table>\n",
       "</div>"
      ],
      "text/plain": [
       "    x   y\n",
       "0  10  aa\n",
       "1  20  bb\n",
       "2  30  cc"
      ]
     },
     "execution_count": 18,
     "metadata": {},
     "output_type": "execute_result"
    }
   ],
   "source": [
    "bar.head()"
   ]
  },
  {
   "cell_type": "code",
   "execution_count": 19,
   "id": "8c182a62-c933-424c-ba95-1efb9487e443",
   "metadata": {},
   "outputs": [
    {
     "data": {
      "text/html": [
       "<div>\n",
       "<style scoped>\n",
       "    .dataframe tbody tr th:only-of-type {\n",
       "        vertical-align: middle;\n",
       "    }\n",
       "\n",
       "    .dataframe tbody tr th {\n",
       "        vertical-align: top;\n",
       "    }\n",
       "\n",
       "    .dataframe thead th {\n",
       "        text-align: right;\n",
       "    }\n",
       "</style>\n",
       "<table border=\"1\" class=\"dataframe\">\n",
       "  <thead>\n",
       "    <tr style=\"text-align: right;\">\n",
       "      <th></th>\n",
       "      <th>x</th>\n",
       "      <th>y</th>\n",
       "    </tr>\n",
       "  </thead>\n",
       "  <tbody>\n",
       "    <tr>\n",
       "      <th>0</th>\n",
       "      <td>1</td>\n",
       "      <td>a</td>\n",
       "    </tr>\n",
       "    <tr>\n",
       "      <th>1</th>\n",
       "      <td>2</td>\n",
       "      <td>b</td>\n",
       "    </tr>\n",
       "    <tr>\n",
       "      <th>2</th>\n",
       "      <td>3</td>\n",
       "      <td>c</td>\n",
       "    </tr>\n",
       "  </tbody>\n",
       "</table>\n",
       "</div>"
      ],
      "text/plain": [
       "   x  y\n",
       "0  1  a\n",
       "1  2  b\n",
       "2  3  c"
      ]
     },
     "execution_count": 19,
     "metadata": {},
     "output_type": "execute_result"
    }
   ],
   "source": [
    "foo.head()"
   ]
  },
  {
   "cell_type": "code",
   "execution_count": 20,
   "id": "5f733d8e-07e5-4182-be48-2175b609305a",
   "metadata": {},
   "outputs": [
    {
     "data": {
      "text/html": [
       "<div>\n",
       "<style scoped>\n",
       "    .dataframe tbody tr th:only-of-type {\n",
       "        vertical-align: middle;\n",
       "    }\n",
       "\n",
       "    .dataframe tbody tr th {\n",
       "        vertical-align: top;\n",
       "    }\n",
       "\n",
       "    .dataframe thead th {\n",
       "        text-align: right;\n",
       "    }\n",
       "</style>\n",
       "<table border=\"1\" class=\"dataframe\">\n",
       "  <thead>\n",
       "    <tr style=\"text-align: right;\">\n",
       "      <th></th>\n",
       "      <th>x</th>\n",
       "      <th>y</th>\n",
       "    </tr>\n",
       "  </thead>\n",
       "  <tbody>\n",
       "    <tr>\n",
       "      <th>0</th>\n",
       "      <td>10</td>\n",
       "      <td>aa</td>\n",
       "    </tr>\n",
       "    <tr>\n",
       "      <th>1</th>\n",
       "      <td>20</td>\n",
       "      <td>bb</td>\n",
       "    </tr>\n",
       "    <tr>\n",
       "      <th>2</th>\n",
       "      <td>30</td>\n",
       "      <td>cc</td>\n",
       "    </tr>\n",
       "  </tbody>\n",
       "</table>\n",
       "</div>"
      ],
      "text/plain": [
       "    x   y\n",
       "0  10  aa\n",
       "1  20  bb\n",
       "2  30  cc"
      ]
     },
     "execution_count": 20,
     "metadata": {},
     "output_type": "execute_result"
    }
   ],
   "source": [
    "\n",
    "bar.tail()\n"
   ]
  },
  {
   "cell_type": "code",
   "execution_count": 21,
   "id": "c72dcaa9-c32d-472a-b1dd-f9a3535d6c97",
   "metadata": {},
   "outputs": [],
   "source": [
    "#Download file and read from disc\n",
    "s3.Bucket('raunakaws1').download_file(Key='foo.csv',Filename='foo2.csv')\n",
    "                                  "
   ]
  },
  {
   "cell_type": "code",
   "execution_count": 22,
   "id": "a4f79a2a-dc75-4d76-a349-fbbdc2e27313",
   "metadata": {},
   "outputs": [
    {
     "data": {
      "text/html": [
       "<div>\n",
       "<style scoped>\n",
       "    .dataframe tbody tr th:only-of-type {\n",
       "        vertical-align: middle;\n",
       "    }\n",
       "\n",
       "    .dataframe tbody tr th {\n",
       "        vertical-align: top;\n",
       "    }\n",
       "\n",
       "    .dataframe thead th {\n",
       "        text-align: right;\n",
       "    }\n",
       "</style>\n",
       "<table border=\"1\" class=\"dataframe\">\n",
       "  <thead>\n",
       "    <tr style=\"text-align: right;\">\n",
       "      <th></th>\n",
       "      <th>x</th>\n",
       "      <th>y</th>\n",
       "    </tr>\n",
       "  </thead>\n",
       "  <tbody>\n",
       "    <tr>\n",
       "      <th>0</th>\n",
       "      <td>1</td>\n",
       "      <td>a</td>\n",
       "    </tr>\n",
       "    <tr>\n",
       "      <th>1</th>\n",
       "      <td>2</td>\n",
       "      <td>b</td>\n",
       "    </tr>\n",
       "    <tr>\n",
       "      <th>2</th>\n",
       "      <td>3</td>\n",
       "      <td>c</td>\n",
       "    </tr>\n",
       "  </tbody>\n",
       "</table>\n",
       "</div>"
      ],
      "text/plain": [
       "   x  y\n",
       "0  1  a\n",
       "1  2  b\n",
       "2  3  c"
      ]
     },
     "execution_count": 22,
     "metadata": {},
     "output_type": "execute_result"
    }
   ],
   "source": [
    "pd.read_csv('foo2.csv' , index_col=0)   "
   ]
  },
  {
   "cell_type": "code",
   "execution_count": null,
   "id": "4724b2e9-0529-4da9-9d33-9f1bc3d53559",
   "metadata": {},
   "outputs": [],
   "source": [
    "##create bucket using python\n",
    "##delete files from bucket1"
   ]
  },
  {
   "cell_type": "code",
   "execution_count": null,
   "id": "c87b6fd4-c605-4926-92fa-257cb0986336",
   "metadata": {},
   "outputs": [],
   "source": [
    "##create bucket using python"
   ]
  },
  {
   "cell_type": "code",
   "execution_count": 23,
   "id": "b2d42272-4196-465d-9446-d9a6d59f8f83",
   "metadata": {},
   "outputs": [
    {
     "name": "stdout",
     "output_type": "stream",
     "text": [
      "Requirement already satisfied: awscli in c:\\python35\\lib\\site-packages (1.34.13)\n",
      "Requirement already satisfied: botocore==1.35.13 in c:\\python35\\lib\\site-packages (from awscli) (1.35.13)\n",
      "Requirement already satisfied: docutils<0.17,>=0.10 in c:\\python35\\lib\\site-packages (from awscli) (0.16)\n",
      "Requirement already satisfied: s3transfer<0.11.0,>=0.10.0 in c:\\python35\\lib\\site-packages (from awscli) (0.10.2)\n",
      "Requirement already satisfied: PyYAML<6.1,>=3.10 in c:\\python35\\lib\\site-packages (from awscli) (6.0.1)\n",
      "Requirement already satisfied: colorama<0.4.7,>=0.2.5 in c:\\python35\\lib\\site-packages (from awscli) (0.4.6)\n",
      "Requirement already satisfied: rsa<4.8,>=3.1.2 in c:\\python35\\lib\\site-packages (from awscli) (4.7.2)\n",
      "Requirement already satisfied: jmespath<2.0.0,>=0.7.1 in c:\\python35\\lib\\site-packages (from botocore==1.35.13->awscli) (1.0.1)\n",
      "Requirement already satisfied: python-dateutil<3.0.0,>=2.1 in c:\\python35\\lib\\site-packages (from botocore==1.35.13->awscli) (2.8.2)\n",
      "Requirement already satisfied: urllib3!=2.2.0,<3,>=1.25.4 in c:\\python35\\lib\\site-packages (from botocore==1.35.13->awscli) (2.0.4)\n",
      "Requirement already satisfied: pyasn1>=0.1.3 in c:\\python35\\lib\\site-packages (from rsa<4.8,>=3.1.2->awscli) (0.5.1)\n",
      "Requirement already satisfied: six>=1.5 in c:\\python35\\lib\\site-packages (from python-dateutil<3.0.0,>=2.1->botocore==1.35.13->awscli) (1.16.0)\n",
      "Note: you may need to restart the kernel to use updated packages.\n"
     ]
    },
    {
     "name": "stderr",
     "output_type": "stream",
     "text": [
      "WARNING: Ignoring invalid distribution ~rotobuf (C:\\python35\\Lib\\site-packages)\n",
      "WARNING: Ignoring invalid distribution ~rotobuf (C:\\python35\\Lib\\site-packages)\n",
      "WARNING: Ignoring invalid distribution ~rotobuf (C:\\python35\\Lib\\site-packages)\n"
     ]
    }
   ],
   "source": [
    "pip install awscli"
   ]
  },
  {
   "cell_type": "code",
   "execution_count": 25,
   "id": "2b7ad606-cb03-4276-8555-80d89b534245",
   "metadata": {},
   "outputs": [],
   "source": [
    "#GO TO CMD AND WRITE COMMANDS \n",
    "\n",
    "#  aws configure \n",
    "\n",
    "# enter your access key id \n",
    "\n",
    "# enter secret key id \n",
    "\n",
    "#enter default region where your s3 bucket is created \n",
    "\n",
    "#enter the output format as 'json' \n",
    "\n",
    "#YOUR IAM USER IS CONFIGURED USING COMMAND LINE INTERFACE "
   ]
  },
  {
   "cell_type": "code",
   "execution_count": 29,
   "id": "6eb4b5af-cb5d-4647-9ede-208f67682145",
   "metadata": {},
   "outputs": [
    {
     "data": {
      "text/plain": [
       "{'ResponseMetadata': {'RequestId': 'MSNDV98ZDZCKTNPP',\n",
       "  'HostId': 'kUgQhrwUbi9z/DVJP9z/xCwODkHQY9opf/r1SEyhAnDn9V2MW5L2Em88pv3HGKMXcKca58V8pUk=',\n",
       "  'HTTPStatusCode': 200,\n",
       "  'HTTPHeaders': {'x-amz-id-2': 'kUgQhrwUbi9z/DVJP9z/xCwODkHQY9opf/r1SEyhAnDn9V2MW5L2Em88pv3HGKMXcKca58V8pUk=',\n",
       "   'x-amz-request-id': 'MSNDV98ZDZCKTNPP',\n",
       "   'date': 'Fri, 06 Sep 2024 16:11:58 GMT',\n",
       "   'location': 'http://raunakjain1.s3.amazonaws.com/',\n",
       "   'server': 'AmazonS3',\n",
       "   'content-length': '0'},\n",
       "  'RetryAttempts': 0},\n",
       " 'Location': 'http://raunakjain1.s3.amazonaws.com/'}"
      ]
     },
     "execution_count": 29,
     "metadata": {},
     "output_type": "execute_result"
    }
   ],
   "source": [
    "import boto3\n",
    "\n",
    "# Initialize the S3 client with a specific region\n",
    "s3_client = boto3.client('s3', region_name='ap-south-1')\n",
    "\n",
    "bucket_name = \"raunakjain1\"  # Lowercase the bucket name\n",
    "\n",
    "# Create the bucket with the location constraint\n",
    "s3_client.create_bucket(\n",
    "    Bucket=bucket_name,\n",
    "    CreateBucketConfiguration={\n",
    "        'LocationConstraint': 'ap-south-1'\n",
    "    }\n",
    ")\n"
   ]
  },
  {
   "cell_type": "code",
   "execution_count": null,
   "id": "6e2707f6-3344-482e-b62d-3e99c11fe3c5",
   "metadata": {},
   "outputs": [],
   "source": []
  }
 ],
 "metadata": {
  "kernelspec": {
   "display_name": "Python 3 (ipykernel)",
   "language": "python",
   "name": "python3"
  },
  "language_info": {
   "codemirror_mode": {
    "name": "ipython",
    "version": 3
   },
   "file_extension": ".py",
   "mimetype": "text/x-python",
   "name": "python",
   "nbconvert_exporter": "python",
   "pygments_lexer": "ipython3",
   "version": "3.11.4"
  }
 },
 "nbformat": 4,
 "nbformat_minor": 5
}
