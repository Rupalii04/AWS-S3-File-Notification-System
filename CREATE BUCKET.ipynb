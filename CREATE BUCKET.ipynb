{
 "cells": [
  {
   "cell_type": "code",
   "execution_count": null,
   "id": "c48f4a3e-efb4-4205-a95a-1ee1326d93aa",
   "metadata": {},
   "outputs": [],
   "source": [
    "#GO TO CMD AND WRITE COMMANDS \n",
    "\n",
    "#  aws configure \n",
    "\n",
    "# enter your access key id \n",
    "\n",
    "# enter secret key id \n",
    "\n",
    "#enter default region where your s3 bucket is created \n",
    "\n",
    "#enter the output format as 'json' \n",
    "\n",
    "#YOUR IAM USER IS CONFIGURED USING COMMAND LINE INTERFACE "
   ]
  },
  {
   "cell_type": "code",
   "execution_count": null,
   "id": "457643e3-6346-405b-9bd0-5b7cf24b0301",
   "metadata": {},
   "outputs": [],
   "source": [
    "import boto3\n",
    "\n",
    "# Initialize the S3 client with a specific region\n",
    "s3_client = boto3.client('s3', region_name='ap-south-1')\n",
    "\n",
    "bucket_name = \"raunakjain1\"  # Lowercase the bucket name\n",
    "\n",
    "# Create the bucket with the location constraint\n",
    "s3_client.create_bucket(\n",
    "    Bucket=bucket_name,\n",
    "    CreateBucketConfiguration={\n",
    "        'LocationConstraint': 'ap-south-1'\n",
    "    }\n",
    ")\n"
   ]
  }
 ],
 "metadata": {
  "kernelspec": {
   "display_name": "Python 3 (ipykernel)",
   "language": "python",
   "name": "python3"
  },
  "language_info": {
   "codemirror_mode": {
    "name": "ipython",
    "version": 3
   },
   "file_extension": ".py",
   "mimetype": "text/x-python",
   "name": "python",
   "nbconvert_exporter": "python",
   "pygments_lexer": "ipython3",
   "version": "3.11.4"
  }
 },
 "nbformat": 4,
 "nbformat_minor": 5
}
